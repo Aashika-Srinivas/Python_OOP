{
 "cells": [
  {
   "cell_type": "code",
   "execution_count": 1,
   "metadata": {},
   "outputs": [],
   "source": [
    "#Import libraries\n",
    "import keras\n",
    "import numpy as np\n",
    "import pandas as pd\n",
    "import matplotlib.pyplot as plt\n",
    "%matplotlib inline\n",
    "from sklearn.model_selection import train_test_split\n",
    "from keras.models import Sequential\n",
    "from keras.layers import Dense\n",
    "from keras.wrappers.scikit_learn import KerasClassifier\n",
    "from sklearn.model_selection import cross_val_score\n",
    "import warnings\n",
    "warnings.simplefilter(action='ignore', category=FutureWarning)\n",
    "warnings.simplefilter(action='ignore', category=DeprecationWarning)"
   ]
  },
  {
   "cell_type": "code",
   "execution_count": 4,
   "metadata": {},
   "outputs": [],
   "source": [
    "#Class Neural and its function Definition\n",
    "class Neural:\n",
    "    \n",
    "    #init method\n",
    "    def __init__(self,X_train, X_test, y_train, y_test,  loss,  init,epochs, batch,neu):\n",
    "        self.X_train = X_train\n",
    "        self.X_test = X_test\n",
    "        self.y_train = y_train\n",
    "        self.y_test = y_test\n",
    "        self.loss = loss\n",
    "        self.init = init\n",
    "        self.epochs = epochs\n",
    "        self.batch = batch\n",
    "        self.neu =neu\n",
    "        self.__score = None\n",
    "        \n",
    "        \n",
    "    #delete method   \n",
    "    def __del__(self):\n",
    "        print(\"The Keras Classifier has been deleted\")\n",
    "    \n",
    "    #classification neural network model creation\n",
    "    def create_model_cl(self,X_train, X_test, y_train, y_test,  loss,  init,epochs, batch, neu):\n",
    "        self.X_train = X_train\n",
    "        self.X_test = X_test\n",
    "        self.y_train = y_train\n",
    "        self.y_test = y_test\n",
    "        self.loss = loss\n",
    "        self.init = init\n",
    "        self.epochs = epochs\n",
    "        self.batch = batch\n",
    "        self.neu =neu\n",
    "        \n",
    "        # Train model\n",
    "        if len(X_train.shape) == 1:\n",
    "            inputs_dim= 1\n",
    "        else: \n",
    "            inputs_dim= X_train.shape[1]\n",
    "\n",
    "  \n",
    "    #custom model creation using keras \n",
    "    def create_model(input_dim, output_dim, nodes, n=1, name='model'):\n",
    "        #def create_model():\n",
    "                # Create model\n",
    "        model = Sequential(name=name)\n",
    "        for i in range(n):\n",
    "            model.add(Dense(nodes, input_dim=inputs_dim, init=init, activation='relu'))\n",
    "        model.add(Dense(output_dim, activation='softmax'))\n",
    "            \n",
    "# activation = ['sigmoid' , 'relu', 'softmax', 'softplus', 'softsign', 'tanh', 'selu', 'elu', 'exponential')\n",
    "# loss = ['binary_crossentropy', 'Sparsecategorical_crossentropy', 'kl_divergence']   \n",
    "# optimizer = ['Adadelta', 'Adagrad', 'Adam', 'Adamax', 'Nadam', 'RMSprop', 'SGD']  \n",
    "\n",
    "                # Compile model\n",
    "        model.compile(loss='categorical_crossentropy', \n",
    "                    optimizer='adam', \n",
    "                    metrics=['accuracy'])\n",
    "        return model\n",
    "        return create_model\n",
    "        \n",
    "                #Implementing classifier function\n",
    "        estimator = KerasClassifier(build_fn=create_model, epochs=100, batch_size=5, verbose=0)\n",
    "        estimator.fit(X_train,y_train)\n",
    "        return estimator\n",
    "        \n",
    "            \n",
    "        model.fit(X_train,y_train,epochs=2,batch_size=128)\n",
    "        self.__score = model.evaluate(x_test, y_test, batch_size=128)\n",
    "        \n",
    "        model.metrics_names\n",
    "        \n",
    "        score\n",
    "        \n",
    "        model.predict(x_train, batch_size=None, verbose=0, steps=None)\n",
    "        \n",
    "        y_train[0:1]\n",
    "\n",
    "    def get_score(self):\n",
    "        return self.__score\n",
    "        \n"
   ]
  },
  {
   "cell_type": "code",
   "execution_count": 5,
   "metadata": {},
   "outputs": [
    {
     "name": "stdout",
     "output_type": "stream",
     "text": [
      "The Keras Classifier has been deleted\n",
      "None\n"
     ]
    }
   ],
   "source": [
    "#Source data\n",
    "df=pd.read_excel('iris.xlsx')\n",
    "#Input data\n",
    "x=df['sepal length']\n",
    "#Output data\n",
    "y = df['species']\n",
    "X_train, X_test, y_train, y_test = train_test_split(x,y, test_size=0.2, random_state=5)\n",
    "\n",
    "\n",
    "#parameter assignment\n",
    "loss='categorical_crossentropy'\n",
    "init='he_uniform'\n",
    "epochs='100'\n",
    "batch='5'\n",
    "neu= [6,4]\n",
    "# init = ['uniform', 'lecun_uniform', 'normal', **'zero', 'glorot_normal', 'glorot_uniform', 'he_normal', 'he_uniform']\n",
    "# activation = ['sigmoid' , 'relu', 'softmax', 'softplus', 'softsign', 'tanh', 'selu', 'elu', 'exponential')\n",
    "# loss = ['binary_crossentropy', 'Sparsecategorical_crossentropy', 'kl_divergence']   \n",
    "# optimizer = ['Adadelta', 'Adagrad', 'Adam', 'Adamax', 'Nadam', 'RMSprop', 'SGD']  \n",
    "n1 = Neural(X_train, X_test, y_train, y_test,  loss,  init, epochs, batch,neu)\n",
    "\n",
    "estimator = n1.create_model_cl(X_train, X_test, y_train, y_test, loss,  init, epochs, batch,neu)\n",
    "\n",
    "sc = n1.get_score()\n",
    "print(sc)"
   ]
  },
  {
   "cell_type": "code",
   "execution_count": 6,
   "metadata": {},
   "outputs": [
    {
     "data": {
      "image/png": "[encoded data removed]",
      "text/plain": [
       "<Figure size 432x288 with 1 Axes>"
      ]
     },
     "metadata": {
      "needs_background": "light"
     },
     "output_type": "display_data"
    }
   ],
   "source": [
    "#classification plot\n",
    "plt.scatter(x,y)\n",
    "plt.show()"
   ]
  },
  {
   "cell_type": "code",
   "execution_count": null,
   "metadata": {},
   "outputs": [],
   "source": []
  }
 ],
 "metadata": {
  "kernelspec": {
   "display_name": "Python 3",
   "language": "python",
   "name": "python3"
  },
  "language_info": {
   "codemirror_mode": {
    "name": "ipython",
    "version": 3
   },
   "file_extension": ".py",
   "mimetype": "text/x-python",
   "name": "python",
   "nbconvert_exporter": "python",
   "pygments_lexer": "ipython3",
   "version": "3.8.5"
  }
 },
 "nbformat": 4,
 "nbformat_minor": 4
}
