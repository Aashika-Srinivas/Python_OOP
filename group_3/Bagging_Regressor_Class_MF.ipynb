{
 "cells": [
  {
   "cell_type": "code",
   "execution_count": null,
   "metadata": {},
   "outputs": [],
   "source": [
    "%reset -f "
   ]
  },
  {
   "cell_type": "code",
   "execution_count": null,
   "metadata": {},
   "outputs": [],
   "source": [
    "# Bagging Regressor Class"
   ]
  },
  {
   "cell_type": "code",
   "execution_count": null,
   "metadata": {},
   "outputs": [],
   "source": [
    "# Importing necessary libraries\n",
    "\n",
    "import pandas as pd\n",
    "import numpy as np\n",
    "from sklearn.model_selection import train_test_split\n",
    "from sklearn.ensemble import BaggingRegressor\n",
    "from sklearn.tree import export_graphviz\n",
    "import pydot\n",
    "from IPython.display import Image, display\n",
    "import matplotlib.pyplot as plt\n",
    "%matplotlib inline"
   ]
  },
  {
   "cell_type": "code",
   "execution_count": null,
   "metadata": {},
   "outputs": [],
   "source": [
    "# Definition of Bagging Regressor Class with functions\n",
    "\n",
    "class baggingreg:\n",
    "    \n",
    "    # Dunder method init\n",
    "    def __init__(self, x_train, x_test, y_train, y_test):\n",
    "        self.x_train = x_train\n",
    "        self.x_test = x_test\n",
    "        self.y_train = y_train\n",
    "        self.y_test = y_test\n",
    "    \n",
    "    # Dunder method del\n",
    "    def __del__(self):\n",
    "        print(\"The Scikit Learn Bagging Regressor has been deleted\")\n",
    "        \n",
    "    # Initialize and Train Regression Model\n",
    "    def buildregmodel(self,x_train, y_train, no_of_estimators, max_features, max_samples, random_state, oob_score):\n",
    "        self.x_train = x_train\n",
    "        self.y_train = y_train\n",
    "        self.no_of_estimators = no_of_estimators\n",
    "        self.max_features = max_features\n",
    "        self.max_samples = max_samples\n",
    "        self.random_state = random_state\n",
    "        self.oob_score = oob_score\n",
    "        \n",
    "        regmodel = BaggingRegressor(n_estimators=no_of_estimators, max_features = max_features, max_samples = max_samples, random_state = random_state, oob_score = oob_score)      \n",
    "        regmodel.fit(x_train,y_train)\n",
    "        \n",
    "        return regmodel\n",
    "    \n",
    "    # Evaluate and test the model of the Scikit Learn Bagging Regressor\n",
    "    def testregmodel(self, x_test, y_test, regmodel):\n",
    "        self.x_test = x_test\n",
    "        self.y_test = y_test\n",
    "        self.regmodel = regmodel\n",
    "     \n",
    "        score=regmodel.score(x_test,y_test)\n",
    "        return score\n",
    "    \n",
    "    # Plot the tree graph(s)  \n",
    "    def get_tree_graph(self, regmodel, x):\n",
    "        self.x=x\n",
    "        self.regmodel=regmodel\n",
    "        feature_list = list(x.columns)\n",
    "        tree_counter = 0\n",
    "        for tree_in_forest in regmodel.estimators_:\n",
    "            file_name1 = 'tree_' + str(tree_counter) + '.dot'\n",
    "            file_name2 = 'tree_' + str(tree_counter) + '.png'\n",
    "            tree = regmodel.estimators_[tree_counter]\n",
    "            export_graphviz(tree, out_file = file_name1, feature_names = feature_list, rounded = True, precision = 1)\n",
    "            (graph, ) = pydot.graph_from_dot_file(file_name1)\n",
    "            graph.write_png(file_name2)\n",
    "            plt = Image(file_name2)\n",
    "            display(plt)\n",
    "            tree_counter += 1\n",
    "     \n",
    "    # Plot the price difference between the predicted and the real prices of the training set\n",
    "    def get_oob_prediction_graph(self,regmodel,x):\n",
    "        self.x=x\n",
    "        self.regmodel=regmodel\n",
    "        # Set the style\n",
    "        plt.style.use('fivethirtyeight')\n",
    "        # list of x locations for plotting\n",
    "        prediction = list(regmodel.oob_prediction_)\n",
    "        difference = y_train - prediction\n",
    "        x_values = list(range(len(difference)))\n",
    "        # Make a bar chart\n",
    "        plt.bar(x_values, difference, orientation = 'vertical')\n",
    "        # Axis labels and title\n",
    "        plt.ylabel('Price Difference'); plt.xlabel('Number'); plt.title('Price Difference Predicted/Real');\n",
    "    \n",
    "    \n",
    "    # Get the oob_score\n",
    "    def get_oob_score(self, regmodel):\n",
    "        self.regmodel = regmodel\n",
    "        score = regmodel.oob_score_\n",
    "        \n",
    "        return score\n",
    "    \n",
    "    \n",
    "    # Predict new results\n",
    "    def predictregmodel(self,regmodel,x_predict):\n",
    "        self.regmodel = regmodel\n",
    "        self.x_predict = x_predict\n",
    "        \n",
    "        y_predict=regmodel.predict(x_predict)\n",
    "        return y_predict\n",
    "    \n"
   ]
  },
  {
   "cell_type": "code",
   "execution_count": null,
   "metadata": {},
   "outputs": [],
   "source": [
    "# Read Data Set and Split into X_Train, Y_Train, X_Test and Y_Test\n",
    "\n",
    "# Read Data Set\n",
    "df=pd.read_excel('Real estate valuation data set.xlsx')\n",
    "\n",
    "# Define X and Y Data\n",
    "x=df.drop(columns=['Y house price of unit area', 'No']) # inputs\n",
    "y=df['Y house price of unit area']                # outputs\n",
    "\n",
    "# Splitting the data (20% recommended)\n",
    "x_train, x_test, y_train, y_test = train_test_split(x,y, test_size=0.2)"
   ]
  },
  {
   "cell_type": "code",
   "execution_count": null,
   "metadata": {},
   "outputs": [],
   "source": [
    "# Define Settings for Regressor\n",
    "\n",
    "#Criteria for the Bagging Regressor Model:\n",
    "no_of_estimators = 10 # integer value: number of trees in the forest\n",
    "max_features = 1.0 # The number of features to draw from X to train each base estimator \n",
    "max_samples = 1.0 # The number of samples to draw from X to train each base estimator\n",
    "random_state = 10 # To randomly resample the original dataset\n",
    "oob_score = True # Use out-of-bag samples to estimate the generalization error."
   ]
  },
  {
   "cell_type": "code",
   "execution_count": null,
   "metadata": {},
   "outputs": [],
   "source": [
    "# Initialize the Regression Model\n",
    "\n",
    "regressionmodel = baggingreg(x_train, x_test, y_train, y_test) # creation of the object\n",
    "regmodel = regressionmodel.buildregmodel(x_train, y_train, no_of_estimators, max_features, max_samples, random_state, oob_score) # creation of the model"
   ]
  },
  {
   "cell_type": "code",
   "execution_count": null,
   "metadata": {},
   "outputs": [],
   "source": [
    "# Get Model Quality Information\n",
    "\n",
    "quality = regressionmodel.testregmodel(x_test, y_test, regmodel) # measure of the quality \n",
    "print (str(quality))"
   ]
  },
  {
   "cell_type": "code",
   "execution_count": null,
   "metadata": {},
   "outputs": [],
   "source": [
    "# Plotting the Model\n",
    "\n",
    "regressionmodel.get_tree_graph(regmodel,x)"
   ]
  },
  {
   "cell_type": "code",
   "execution_count": null,
   "metadata": {},
   "outputs": [],
   "source": [
    "# Plotting price differences between predicted and real prices of the training set\n",
    "regressionmodel.get_oob_prediction_graph(regmodel,x)\n"
   ]
  },
  {
   "cell_type": "code",
   "execution_count": null,
   "metadata": {},
   "outputs": [],
   "source": [
    "# The OOB_Score (An estimation for the quaility of the Regressor compared to the best constant predictor)\n",
    "# Score < 0 = Worse, Score > 0 = Better (So the higher the better)\n",
    "oob_score = regressionmodel.get_oob_score(regmodel)\n",
    "print(str(oob_score))"
   ]
  },
  {
   "cell_type": "code",
   "execution_count": null,
   "metadata": {},
   "outputs": [],
   "source": [
    "# Predict Values\n",
    "x_predict = [[2017, 25, 60, 20, 20, 100]]\n",
    "predicted_Y = regressionmodel.predictregmodel(regmodel, x_predict)\n",
    "print(predicted_Y)"
   ]
  },
  {
   "cell_type": "code",
   "execution_count": null,
   "metadata": {},
   "outputs": [],
   "source": [
    "# Get Bagging Parameters\n",
    "parameters = regmodel.get_params()\n",
    "print(parameters)"
   ]
  },
  {
   "cell_type": "code",
   "execution_count": null,
   "metadata": {},
   "outputs": [],
   "source": []
  },
  {
   "cell_type": "code",
   "execution_count": null,
   "metadata": {},
   "outputs": [],
   "source": []
  }
 ],
 "metadata": {
  "kernelspec": {
   "display_name": "Python 3",
   "language": "python",
   "name": "python3"
  },
  "language_info": {
   "codemirror_mode": {
    "name": "ipython",
    "version": 3
   },
   "file_extension": ".py",
   "mimetype": "text/x-python",
   "name": "python",
   "nbconvert_exporter": "python",
   "pygments_lexer": "ipython3",
   "version": "3.8.3"
  }
 },
 "nbformat": 4,
 "nbformat_minor": 4
}
