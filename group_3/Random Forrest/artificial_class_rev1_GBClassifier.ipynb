{
 "cells": [
  {
   "cell_type": "markdown",
   "metadata": {},
   "source": [
    "### ###################################\n",
    "###               Gradient Boosting Classifier Reading Data:                       ####\n",
    "### ##################################"
   ]
  },
  {
   "cell_type": "code",
   "execution_count": 73,
   "metadata": {},
   "outputs": [],
   "source": [
    "# Author: Quentin Lyons\n",
    "# Program: Gradient Boosting Classifier\n",
    "# Date: 13/04/2021\n",
    "# References \n",
    "# https://scikit-learn.org/stable/modules/generated/sklearn.ensemble.GradientBoostingClassifier.html\n",
    "\n",
    "import pandas as pd\n",
    "import random\n",
    "import math\n",
    "import matplotlib.pyplot as plt\n",
    "import numpy as np \n",
    "import seaborn as sns\n",
    "\n",
    "from sklearn import tree\n",
    "from sklearn.model_selection import train_test_split\n",
    "from sklearn.ensemble import GradientBoostingClassifier\n",
    "from sklearn.tree import export_graphviz\n",
    "from sklearn.metrics import confusion_matrix"
   ]
  },
  {
   "cell_type": "code",
   "execution_count": 74,
   "metadata": {},
   "outputs": [
    {
     "name": "stdout",
     "output_type": "stream",
     "text": [
      "<class 'pandas.core.series.Series'>\n"
     ]
    }
   ],
   "source": [
    "'Data Reading: IRIS'\n",
    "# Simple data handling -most this will already be processed by group 2.\n",
    "# read data into dataframe\n",
    "df= pd.read_excel('irisexcel.xlsx')\n",
    "\n",
    "# view inital data head\n",
    "#print(df.head())\n",
    "\n",
    "# View the column names\n",
    "#print(df.columns)\n",
    "\n",
    "# Create the x-data frame (remove the y value that describes the flower) \n",
    "dfx= df.drop(labels= 'class', axis=1, inplace=False) # implace = true - does not create a new table\n",
    "#print(dfx)\n",
    "#print(type(dfx))\n",
    "# create the y data frame of results\n",
    "dfy= df['class']\n",
    "print(type(dfy))\n",
    "#print(len(df))"
   ]
  },
  {
   "cell_type": "code",
   "execution_count": 75,
   "metadata": {},
   "outputs": [],
   "source": [
    "class dataSplit_test_train():\n",
    "    '''Method split data \n",
    "    Using sklearn.ensemble package\n",
    "\n",
    "    X_train, y_train will be the training data (A split_size (%) of original data taken from the X_data and Y_data        X_test, y_test is the remaining data that has not been processed.\n",
    "    test_size is the amout of data used as training and testing.\n",
    "    random_state is an integer which defines if the training and split data is recalled  \n",
    "\n",
    "    Possible to implement own function here, however; to produce a shuffle of the dataframe or\n",
    "    randomly selecting the number of rows for train/ test, additional functions such as sklearn shuffle or permutation\n",
    "    are used. The expense of calling these as compared to train_test_split from sklearn is not justified.\n",
    "    '''\n",
    "    def __init__(self, X_data, Y_data, split_size, random_state):  \n",
    "        \n",
    "        self.X_data = X_data\n",
    "        self.Y_data = Y_data\n",
    "        self.split_size = split_size\n",
    "        self.random_state = random_state\n",
    "        \n",
    "    def __del__(self):\n",
    "        print(\"Split data has been deleted\")    \n",
    "        \n",
    "    def split_data(self):\n",
    "    \n",
    "        # X_train, X_test, y_train, y_test\n",
    "        data= train_test_split(self.X_data, self.Y_data, test_size= self.split_size, random_state= self.random_state)\n",
    "\n",
    "        # returns a list\n",
    "        return data #X_train, X_test, y_train, y_test"
   ]
  },
  {
   "cell_type": "code",
   "execution_count": 76,
   "metadata": {},
   "outputs": [
    {
     "name": "stdout",
     "output_type": "stream",
     "text": [
      "Split data has been deleted\n"
     ]
    }
   ],
   "source": [
    "# these parameters will be set by the GUI and updates these accordingly.\n",
    "# https://scikit-learn.org/stable/modules/generated/sklearn.model_selection.train_test_split.html\n",
    "# split_size: Range 0.0 and 1.0 - Represents the proportion of the dataset in the test split\n",
    "# If INT -represents the number of test samples\n",
    "split_size = 0.2 \n",
    "# Random State: Controls shuffling applied to the data before splitting. Pass int for reproducibility.\n",
    "r_state = 10\n",
    "### ###################################\n",
    "### The following is the ai model class: ####\n",
    "### ##################################\n",
    "# Create the class\n",
    "rawData = dataSplit_test_train(dfx, dfy, split_size, r_state)\n",
    "# Call the method - returns a list of 4\n",
    "splitData= rawData.split_data()"
   ]
  },
  {
   "cell_type": "raw",
   "metadata": {},
   "source": [
    "### ###################################\n",
    "### The following is the AI GradientBoostingClassifier model class: ####\n",
    "### ##################################"
   ]
  },
  {
   "cell_type": "code",
   "execution_count": 77,
   "metadata": {},
   "outputs": [],
   "source": [
    "#The following represents a class of RandomForrect implementation\n",
    "# \n",
    "''' This class defines the blue print of AI method - Random Forrest'''\n",
    "\n",
    "class artificial_3():\n",
    "    '''Documentation for Class artificial\n",
    "    The class can handle multiple AI methods\n",
    "\n",
    "    More Details\n",
    "    '''\n",
    "    def __init__(self, X_train, X_test, y_train, y_test):\n",
    "        \n",
    "        '''The constructor\n",
    "        Initialise Model data\n",
    "        '''\n",
    "        self.__X_train= X_train        \n",
    "        self.__X_test= X_test\n",
    "        self.__y_train= y_train\n",
    "        self.__y_test= y_test\n",
    "        self.__classifier= None\n",
    "        self.__predictionValues= None\n",
    "        self.importances= list()\n",
    "    \n",
    "    def __del__(self):\n",
    "        print(\"AI Model has been deleted\")\n",
    "        \n",
    "        #setter methods\n",
    "    def set_classifier(self, learning_rate, n_estimators, subsample, criterion, min_samples_split, max_depth, max_features, init, random_state, max_leaf_nodes):\n",
    "        '''\n",
    "        Sets the classifier to the type of Graident Boosting Classifier\n",
    "        \n",
    "        More Details\n",
    "        '''\n",
    "        self.__classifier= GradientBoostingClassifier(learning_rate= learning_rate, n_estimators= n_estimators, subsample= subsample, criterion= criterion, \n",
    "                                                      min_samples_split= min_samples_split, max_depth= max_depth, max_features= max_features, init= init, \n",
    "                                                      random_state= random_state, max_leaf_nodes= max_leaf_nodes)\n",
    "       \n",
    "        try:\n",
    "            self.__classifier.fit(X= self.__X_train, y= self.__y_train, sample_weight= None)\n",
    "        except:\n",
    "                return 10101  # \"Error with model fit - Classifier requires predictor variables \n",
    "                              #  (inputs, X) and a categorical response variable (Output, Y) \" \n",
    "        \n",
    "        # Obtain the importance features of the split\n",
    "        self.importances= self.__classifier.feature_importances_\n",
    "        \n",
    "        return 0        \n",
    "        \n",
    "    \n",
    "    # Get methods\n",
    "    def get_X_train(self):\n",
    "        return self.__X_train\n",
    "    def get_y_train(self):\n",
    "        return self.__y_train    \n",
    "    def get_X_test(self):\n",
    "        return self.__X_test\n",
    "    def get_y_test(self): \n",
    "        return self.__y_test\n",
    "    def get_predictionValues(self): \n",
    "        return self.__predictionValues\n",
    "     \n",
    "    # Get methods\n",
    "    def get_classifier(self):\n",
    "        '''\n",
    "        Get classifier type\n",
    "        More Details\n",
    "        '''                 \n",
    "        return self.__classifier\n",
    "    \n",
    "     \n",
    "    def get_prediction(self, Xdata):\n",
    "        '''\n",
    "        classifier.predict(x_test)\n",
    "        More Details\n",
    "        ''' \n",
    "        # tests if user is using new xdata and wants to confirm model fit without re-training\n",
    "        if not isinstance(Xdata, pd.DataFrame): Xdata = self.get_X_test()\n",
    "        \n",
    "        self.__predictionValues= self.__classifier.predict(Xdata)\n",
    "        \n",
    "        return self.__predictionValues\n",
    "    \n",
    "    def get_modelParams(self):\n",
    "        '''\n",
    "        Get model Parameters\n",
    "        More Details\n",
    "        '''        \n",
    "        return self.__classifier.get_params(deep=True)\n",
    "  \n",
    "    \n",
    "    def get_trainScore(self):\n",
    "        '''\n",
    "        Gets the Score of the Classifier using the testing data\n",
    "        More Details\n",
    "        '''        \n",
    "          \n",
    "        return self.__classifier.score(X= self.get_X_train(), y= self.get_y_train())\n",
    "    \n",
    "    \n",
    "    def get_testScore(self):\n",
    "        '''\n",
    "        Gets the Score of the Classifier using the testing data\n",
    "        More Details\n",
    "        '''        \n",
    "          \n",
    "        return self.__classifier.score(X= self.get_X_test(), y= self.get_y_test())\n",
    " \n",
    "    \n",
    "    def get_confusionPlot(self, Ydata):\n",
    "        '''\n",
    "        Get model Parameters\n",
    "        More Details\n",
    "        '''  \n",
    "        # Confirm the data parsed is of type pd.series\n",
    "        if not isinstance(Ydata, pd.Series): Ydata = self.get_y_test()           \n",
    "        \n",
    "        y= np.array(Ydata)\n",
    "        label= np.unique(y)\n",
    "        confuseMatrix=  confusion_matrix(Ydata, self.get_predictionValues())\n",
    "        file_name= 'confusionMatrix.png'\n",
    "        plt.figure(figsize=(10,10))\n",
    "        fig= sns.heatmap(confuseMatrix, annot=True, linewidths= 0.5, xticklabels= label, yticklabels=label)\n",
    "        plt.xlabel('Predicted')\n",
    "        plt.ylabel('Truth')\n",
    "        plt.title('RFC Confusion Matrix')\n",
    "        plt.savefig(file_name)\n",
    "        \n",
    "        return 0\n",
    "    \n",
    "      \n",
    "    def get_visualPlot(self):\n",
    "        '''\n",
    "        Gets the Models Features of importance\n",
    "        More Details\n",
    "        '''\n",
    "        # Set up plot parameters\n",
    "        file_name = 'FeatureOfImportances.png'\n",
    "        fig = plt.figure(figsize=(20,20))\n",
    "        width= 0.2\n",
    "        # Get the feature importances\n",
    "        importances= self.importances\n",
    "        # Set the location for Bar plot\n",
    "        xValues= list(range(len(importances)))\n",
    "        plt.bar(xValues, importances, width, color= 'r')\n",
    "        # Set the plot labels\n",
    "        plt.xticks(xValues, self.get_X_test().columns)\n",
    "        plt.xlabel('Features', fontsize= 16)\n",
    "        plt.ylabel('Importance', fontsize=16)\n",
    "        plt.title('Features Of Importance', fontsize=20)\n",
    "        plt.savefig(file_name)\n",
    "        \n",
    "        return 0"
   ]
  },
  {
   "cell_type": "code",
   "execution_count": 78,
   "metadata": {},
   "outputs": [
    {
     "name": "stdout",
     "output_type": "stream",
     "text": [
      "AI Model has been deleted\n"
     ]
    }
   ],
   "source": [
    "# Object creation \n",
    "# splitData is a list of 4 - X_train, X_test, y_train, y_test\n",
    "aiModel= artificial_3(splitData[0], splitData[1], splitData[2], splitData[3])"
   ]
  },
  {
   "cell_type": "markdown",
   "metadata": {},
   "source": [
    "##############\n",
    "Set Parameters \n",
    "##############"
   ]
  },
  {
   "cell_type": "code",
   "execution_count": 79,
   "metadata": {},
   "outputs": [
    {
     "data": {
      "text/plain": [
       "0"
      ]
     },
     "execution_count": 79,
     "metadata": {},
     "output_type": "execute_result"
    }
   ],
   "source": [
    "# Set Classifer of RandomForestClassifier\n",
    "# https://scikit-learn.org/stable/modules/generated/sklearn.ensemble.GradientBoostingClassifier.html\n",
    "\n",
    "# Shrinks the contribution of each tree by the learning rate\n",
    "learning_rate= 0.1     # float, Default 0.1, Range 0.1 ~ 1.0\n",
    "\n",
    "# Number of boosting stages\n",
    "n_estimators= 100             # Int Range: 2 - 200, default: 100\n",
    "\n",
    "# Fraction of samples used for fitting the individual base learners. Results in Stochastic Gradient Boosting when < 1.0\n",
    "subsample= 1.0  # float default: 1.0 Range: 0.1 to ~\n",
    "\n",
    "# Function to measure split quality.\n",
    "criterion= \"friedman_mse\"    # Inputs: \"friedman_mse\" \"mse\", \"mae\" , default: \"friedman_mse\"\n",
    "\n",
    "# Minimum number of samples to split a internal node.\n",
    "min_samples_split= 5         # Int , Default: 2 , Range: 2 to ~ 10\n",
    "\n",
    "# # Max depth individual regression estimators:\n",
    "max_depth= None  # Int, Default: 3, Range 2 - ~ say 200. Tune for best perfomance\n",
    "\n",
    "# Number of features at each split\n",
    "max_features= \"auto\" # \"sqrt\", \"log2\", None, or INT: Range 1 to ~ say 100 \n",
    "\n",
    "# Estimator Object to used to compute initial predictions\n",
    "init= None  # Default: None, Arguments: estimator of 'zero'\n",
    "\n",
    "# Parameter to control the RNG\n",
    "random_state= None #  Can be any INT of default= None\n",
    "\n",
    "# Defines the leaves allowed at any node.\n",
    "max_leaf_nodes= 4 # INT Range: 2 ~ 20, Default: None\n",
    "\n",
    "# Model Creation \n",
    "aiModel.set_classifier(learning_rate, n_estimators, subsample, criterion, min_samples_split, max_depth, max_features, init, random_state, max_leaf_nodes) "
   ]
  },
  {
   "cell_type": "code",
   "execution_count": 80,
   "metadata": {},
   "outputs": [
    {
     "name": "stdout",
     "output_type": "stream",
     "text": [
      "{'ccp_alpha': 0.0, 'criterion': 'friedman_mse', 'init': None, 'learning_rate': 0.1, 'loss': 'deviance', 'max_depth': None, 'max_features': 'auto', 'max_leaf_nodes': 4, 'min_impurity_decrease': 0.0, 'min_impurity_split': None, 'min_samples_leaf': 1, 'min_samples_split': 5, 'min_weight_fraction_leaf': 0.0, 'n_estimators': 100, 'n_iter_no_change': None, 'presort': 'deprecated', 'random_state': None, 'subsample': 1.0, 'tol': 0.0001, 'validation_fraction': 0.1, 'verbose': 0, 'warm_start': False}\n"
     ]
    }
   ],
   "source": [
    "# Just data info of the model parameters set. May not be necessary?\n",
    "print(aiModel.get_modelParams())  "
   ]
  },
  {
   "cell_type": "code",
   "execution_count": 86,
   "metadata": {},
   "outputs": [
    {
     "name": "stdout",
     "output_type": "stream",
     "text": [
      "['Iris-versicolor' 'Iris-versicolor' 'Iris-setosa' 'Iris-versicolor'\n",
      " 'Iris-versicolor' 'Iris-versicolor' 'Iris-versicolor' 'Iris-versicolor'\n",
      " 'Iris-setosa' 'Iris-virginica' 'Iris-virginica' 'Iris-virginica'\n",
      " 'Iris-versicolor' 'Iris-setosa' 'Iris-setosa' 'Iris-virginica'\n",
      " 'Iris-virginica' 'Iris-setosa' 'Iris-setosa' 'Iris-setosa'\n",
      " 'Iris-versicolor' 'Iris-versicolor' 'Iris-versicolor' 'Iris-setosa'\n",
      " 'Iris-versicolor' 'Iris-setosa' 'Iris-versicolor' 'Iris-virginica'\n",
      " 'Iris-versicolor' 'Iris-versicolor']\n"
     ]
    },
    {
     "data": {
      "text/plain": [
       "0"
      ]
     },
     "execution_count": 86,
     "metadata": {},
     "output_type": "execute_result"
    },
    {
     "data": {
      "image/png": "[encoded data removed]",
      "text/plain": [
       "<Figure size 720x720 with 2 Axes>"
      ]
     },
     "metadata": {
      "needs_background": "light"
     },
     "output_type": "display_data"
    }
   ],
   "source": [
    "# Returns the y test predictions of the x test inputs - Replace 'None' with New X Data in which you do not have the corresponding y output! \n",
    "# defaults to the x testing data # X_train, X_test, y_train, y_test\n",
    "#aiModel.get_prediction(splitData[1]) #or aiModel.get_prediction(splitData[1]) \n",
    "#print(aiModel.get_prediction(splitData[0])) # Takes the X_train data\n",
    "print(aiModel.get_prediction(None)) \n",
    "\n",
    "\n",
    "# Get confusion matrix: If using original trained model, but new Xdata, we need to allow for the passing of the actual Ydata.\n",
    "# If new Xdata does not have accompanying actual Y data result, this confusion plot should not be called.\n",
    "#aiModel.get_confusionPlot(splitData[2]) # this is the actual ytrain data - the result should be a diagonal matrix with sparse zeros\n",
    "aiModel.get_confusionPlot(None)"
   ]
  },
  {
   "cell_type": "code",
   "execution_count": 84,
   "metadata": {},
   "outputs": [
    {
     "name": "stdout",
     "output_type": "stream",
     "text": [
      "0.9\n"
     ]
    }
   ],
   "source": [
    "# Returns the Score of the testing data\n",
    "print(aiModel.get_testScore())\n",
    "\n"
   ]
  },
  {
   "cell_type": "code",
   "execution_count": 83,
   "metadata": {},
   "outputs": [
    {
     "data": {
      "text/plain": [
       "0"
      ]
     },
     "execution_count": 83,
     "metadata": {},
     "output_type": "execute_result"
    },
    {
     "data": {
      "image/png": "[encoded data removed]",
      "text/plain": [
       "<Figure size 1440x1440 with 1 Axes>"
      ]
     },
     "metadata": {
      "needs_background": "light"
     },
     "output_type": "display_data"
    }
   ],
   "source": [
    "# Get model features of importance - bar graph\n",
    "aiModel.get_visualPlot()"
   ]
  },
  {
   "cell_type": "code",
   "execution_count": null,
   "metadata": {},
   "outputs": [],
   "source": []
  }
 ],
 "metadata": {
  "kernelspec": {
   "display_name": "Python 3",
   "language": "python",
   "name": "python3"
  },
  "language_info": {
   "codemirror_mode": {
    "name": "ipython",
    "version": 3
   },
   "file_extension": ".py",
   "mimetype": "text/x-python",
   "name": "python",
   "nbconvert_exporter": "python",
   "pygments_lexer": "ipython3",
   "version": "3.8.3"
  }
 },
 "nbformat": 4,
 "nbformat_minor": 4
}
