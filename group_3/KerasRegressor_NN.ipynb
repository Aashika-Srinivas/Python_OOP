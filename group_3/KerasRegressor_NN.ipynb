{
 "cells": [
  {
   "cell_type": "code",
   "execution_count": 2,
   "metadata": {},
   "outputs": [],
   "source": [
    "import pandas as pd\n",
    "import numpy as np\n",
    "from sklearn.model_selection import train_test_split\n",
    "from keras.models import Sequential\n",
    "from keras.layers import Dense\n",
    "from keras.wrappers.scikit_learn import KerasRegressor\n",
    "# To evaluate the model\n",
    "from sklearn.metrics import mean_squared_error\n",
    "from sklearn.metrics import mean_absolute_error"
   ]
  },
  {
   "cell_type": "code",
   "execution_count": 5,
   "metadata": {},
   "outputs": [],
   "source": [
    "# Neural Network as a class\n",
    "class NN:\n",
    "\n",
    "    def __init__(self, X_train, X_test, y_train, y_test,opt, loss, fun, init,epo, batch,nn):\n",
    "        self.X_train = X_train\n",
    "        self.X_test = X_test\n",
    "        self.y_train = y_train\n",
    "        self.y_test = y_test\n",
    "        self.opt = opt\n",
    "        self.loss = loss\n",
    "        self.fun = fun\n",
    "        self.init = init\n",
    "        self.epo = epo\n",
    "        self.batch = batch\n",
    "        self.nn = nn\n",
    "        \n",
    "    def __del__(self):\n",
    "        print(\"The Keras Regressor Neural Network has been deleted\")\n",
    "        \n",
    "    # Create Model\n",
    "    def create_model(self,X_train, X_test, y_train, y_test, opt, loss, fun, init,epo, batch,nn):\n",
    "        self.X_train = X_train\n",
    "        self.X_test = X_test\n",
    "        self.y_train = y_train\n",
    "        self.y_test = y_test\n",
    "        self.opt = opt\n",
    "        self.loss = loss\n",
    "        self.fun = fun\n",
    "        self.init = init\n",
    "        self.epo = epo\n",
    "        self.batch = batch\n",
    "        self.nn = nn\n",
    "        \n",
    "        # when X_train (input) is 1 a direct assingment is needed, otherwise there is a problem here inputs= X_train.shape[1]\n",
    "        if len(X_train.shape) == 1:\n",
    "            inputs= 1\n",
    "        else: \n",
    "            inputs= X_train.shape[1]\n",
    "    \n",
    "    # Define the keras base model \n",
    "        def baseline_model():\n",
    "            kerasmodel = Sequential()\n",
    "            # Activation = ['sigmoid' , 'relu', **'softmax', 'softplus', 'softsign', 'tanh', 'selu', 'elu', 'exponential')\n",
    "            # Init_mode = ['uniform', 'lecun_uniform', 'normal', **'zero', 'glorot_normal', 'glorot_uniform', 'he_normal', 'he_uniform']\n",
    "            kerasmodel.add(Dense(nn[0], input_dim=inputs, init=init, activation=fun))\n",
    "            kerasmodel.add(Dense(nn[1], init=init, activation=fun))\n",
    "            kerasmodel.add(Dense(1,init=init))  \n",
    "            \n",
    "            # Compile model \n",
    "            # Loss = ['MAE', 'MSE', 'MAPE']\n",
    "            # Optimizer = ['Adadelta', 'Adagrad', 'Adam', 'Adamax', 'Nadam', 'RMSprop', 'SGD']\n",
    "            kerasmodel.compile(loss=loss, optimizer= opt)\n",
    "            return kerasmodel\n",
    "\n",
    "        estimator = KerasRegressor(build_fn=baseline_model, epochs=epo, batch_size=batch, verbose=0)\n",
    "        estimator.fit(X_train,y_train)\n",
    "        return estimator\n",
    "        \n",
    "    # Quality of the NN\n",
    "    def quality(self,X_test, y_test,estimator):\n",
    "        self.X_test = X_test\n",
    "        self.y_test = y_test\n",
    "        self.estimador = estimator     \n",
    "        y_pred = estimator.predict(X_test)\n",
    "        score_mse = mean_squared_error(y_test, y_pred)\n",
    "        score_mae = mean_absolute_error(y_test, y_pred)\n",
    "        results = [score_mse, score_mae]\n",
    "        return results"
   ]
  },
  {
   "cell_type": "code",
   "execution_count": 8,
   "metadata": {},
   "outputs": [
    {
     "name": "stdout",
     "output_type": "stream",
     "text": [
      "The Keras Regressor Neural Network has been deleted\n"
     ]
    },
    {
     "name": "stderr",
     "output_type": "stream",
     "text": [
      "C:\\Users\\HP14\\anaconda3\\envs\\tensorflow2\\lib\\site-packages\\ipykernel_launcher.py:45: UserWarning: Update your `Dense` call to the Keras 2 API: `Dense(12, input_dim=1, activation=\"relu\", kernel_initializer=\"he_uniform\")`\n",
      "C:\\Users\\HP14\\anaconda3\\envs\\tensorflow2\\lib\\site-packages\\ipykernel_launcher.py:46: UserWarning: Update your `Dense` call to the Keras 2 API: `Dense(8, activation=\"relu\", kernel_initializer=\"he_uniform\")`\n",
      "C:\\Users\\HP14\\anaconda3\\envs\\tensorflow2\\lib\\site-packages\\ipykernel_launcher.py:47: UserWarning: Update your `Dense` call to the Keras 2 API: `Dense(1, kernel_initializer=\"he_uniform\")`\n"
     ]
    },
    {
     "data": {
      "text/plain": [
       "[89.39791138955677, 7.644159045851374]"
      ]
     },
     "execution_count": 8,
     "metadata": {},
     "output_type": "execute_result"
    }
   ],
   "source": [
    "seed = 7\n",
    "np.random.seed(seed)\n",
    "\n",
    "df=pd.read_excel('Real estate valuation data set.xlsx')\n",
    "\n",
    "# Inputs and Outputs \n",
    "#X=df.drop(columns=['Y house price of unit area', 'No','X1 transaction date',]) # inputs\n",
    "#X=df[['X3 distance to the nearest MRT station', 'X2 house age']]\n",
    "X=df[ 'X4 number of convenience stores']          # inputs\n",
    "y=df['Y house price of unit area']                # outputs\n",
    "X_train, X_test, y_train, y_test = train_test_split(X,y, test_size=0.2, random_state=5)\n",
    "  \n",
    "# fun = ['sigmoid' , 'relu', **'softmax', 'softplus', 'softsign', 'tanh', 'selu', 'elu', 'exponential')\n",
    "# init = ['uniform', 'lecun_uniform', 'normal', **'zero', 'glorot_normal', 'glorot_uniform', 'he_normal', 'he_uniform']\n",
    "# loss = ['MAE', 'MSE', 'MAPE']\n",
    "# opt = ['Adadelta', 'Adagrad', 'Adam', 'Adamax', 'Nadam', 'RMSprop', 'SGD']\n",
    "\n",
    "opt='adam'              # optimizer to compile the model\n",
    "loss = 'mse'            # objective function (losses)\n",
    "fun='relu'              # activation function\n",
    "init='he_uniform'       # initializacion function\n",
    "epo=150                 # epochs (one forward pass and one backward pass of all the training examples) the >> the best\n",
    "# from 1 to n of samples\n",
    "batch = 10              # batch_size (the number of training examples in one forward/backward pass) the << the best (until 1)\n",
    "nn = [12,8]             # number of neurons in layer 1 and 2\n",
    "nn1 = NN(X_train, X_test, y_train, y_test,opt, loss, fun,init,epo, batch, nn) # creation of the object\n",
    "estimator = nn1.create_model(X_train, X_test, y_train, y_test,opt, loss, fun,init,epo, batch, nn) # creation of the model\n",
    "quality = nn1.quality(X_test,y_test,estimator) # measure of the quality \n",
    "quality"
   ]
  }
 ],
 "metadata": {
  "kernelspec": {
   "display_name": "Python 3",
   "language": "python",
   "name": "python3"
  },
  "language_info": {
   "codemirror_mode": {
    "name": "ipython",
    "version": 3
   },
   "file_extension": ".py",
   "mimetype": "text/x-python",
   "name": "python",
   "nbconvert_exporter": "python",
   "pygments_lexer": "ipython3",
   "version": "3.7.9"
  }
 },
 "nbformat": 4,
 "nbformat_minor": 4
}
