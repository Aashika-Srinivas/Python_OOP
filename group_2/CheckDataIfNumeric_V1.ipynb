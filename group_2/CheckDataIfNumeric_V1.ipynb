{
 "cells": [
  {
   "cell_type": "code",
   "execution_count": 1,
   "metadata": {},
   "outputs": [],
   "source": [
    "import numpy as np\n",
    "import pandas as pd"
   ]
  },
  {
   "cell_type": "code",
   "execution_count": 28,
   "metadata": {},
   "outputs": [],
   "source": [
    "class CheckData:    \n",
    "    def isDFNumeric(df):\n",
    "        non_numeric = df[~df.applymap(np.isreal).all(1)]\n",
    "        return non_numeric.empty # Returns True if all data is numeric else False\n",
    "    \n",
    "    def isColumnNumeric(df,col):\n",
    "        non_numeric = df[col][~df[col].apply(np.isreal)]\n",
    "        return non_numeric.empty # Returns True if all data is numeric else False\n",
    "        "
   ]
  },
  {
   "cell_type": "code",
   "execution_count": 29,
   "metadata": {},
   "outputs": [
    {
     "name": "stdout",
     "output_type": "stream",
     "text": [
      "Index(['Date and time [Matlab_Time)', 'Biogas [m³/h] Cogeneration unit I',\n",
      "       'Biogas [m³/h] Cogeneration unit II',\n",
      "       'Methane content in the gas CH4 [%]', 'Total Solids TS-Wert [%]',\n",
      "       'pH-Value'],\n",
      "      dtype='object')\n"
     ]
    }
   ],
   "source": [
    "df = pd.read_excel('TimeSeries Data from biogas plant.xlsx')\n",
    "df.describe() # Quick short description of the data set\n",
    "print(df.columns)"
   ]
  },
  {
   "cell_type": "code",
   "execution_count": 30,
   "metadata": {},
   "outputs": [
    {
     "data": {
      "text/html": [
       "<div>\n",
       "<style scoped>\n",
       "    .dataframe tbody tr th:only-of-type {\n",
       "        vertical-align: middle;\n",
       "    }\n",
       "\n",
       "    .dataframe tbody tr th {\n",
       "        vertical-align: top;\n",
       "    }\n",
       "\n",
       "    .dataframe thead th {\n",
       "        text-align: right;\n",
       "    }\n",
       "</style>\n",
       "<table border=\"1\" class=\"dataframe\">\n",
       "  <thead>\n",
       "    <tr style=\"text-align: right;\">\n",
       "      <th></th>\n",
       "      <th>Date and time [Matlab_Time)</th>\n",
       "      <th>Biogas [m³/h] Cogeneration unit I</th>\n",
       "      <th>Biogas [m³/h] Cogeneration unit II</th>\n",
       "      <th>Methane content in the gas CH4 [%]</th>\n",
       "      <th>Total Solids TS-Wert [%]</th>\n",
       "      <th>pH-Value</th>\n",
       "    </tr>\n",
       "  </thead>\n",
       "  <tbody>\n",
       "    <tr>\n",
       "      <th>0</th>\n",
       "      <td>734124.999317</td>\n",
       "      <td>NaN</td>\n",
       "      <td>4790.000000</td>\n",
       "      <td>53.53009</td>\n",
       "      <td>7.442129</td>\n",
       "      <td>7.684027</td>\n",
       "    </tr>\n",
       "    <tr>\n",
       "      <th>1</th>\n",
       "      <td>734125.082650</td>\n",
       "      <td>sdfsf</td>\n",
       "      <td>4802.499855</td>\n",
       "      <td>53.53009</td>\n",
       "      <td>7.959729</td>\n",
       "      <td>7.706535</td>\n",
       "    </tr>\n",
       "    <tr>\n",
       "      <th>2</th>\n",
       "      <td>734125.165984</td>\n",
       "      <td>1183.17</td>\n",
       "      <td>4814.999711</td>\n",
       "      <td>53.53009</td>\n",
       "      <td>7.453511</td>\n",
       "      <td>7.691780</td>\n",
       "    </tr>\n",
       "    <tr>\n",
       "      <th>3</th>\n",
       "      <td>734125.249317</td>\n",
       "      <td>1143.75</td>\n",
       "      <td>4827.499566</td>\n",
       "      <td>53.53009</td>\n",
       "      <td>8.026361</td>\n",
       "      <td>7.679975</td>\n",
       "    </tr>\n",
       "    <tr>\n",
       "      <th>4</th>\n",
       "      <td>734125.332650</td>\n",
       "      <td>1104.34</td>\n",
       "      <td>4839.999421</td>\n",
       "      <td>53.53009</td>\n",
       "      <td>7.560807</td>\n",
       "      <td>7.702491</td>\n",
       "    </tr>\n",
       "    <tr>\n",
       "      <th>5</th>\n",
       "      <td>734125.415984</td>\n",
       "      <td>1064.92</td>\n",
       "      <td>4852.499277</td>\n",
       "      <td>53.53009</td>\n",
       "      <td>7.569912</td>\n",
       "      <td>7.697105</td>\n",
       "    </tr>\n",
       "    <tr>\n",
       "      <th>6</th>\n",
       "      <td>734125.499317</td>\n",
       "      <td>1025.5</td>\n",
       "      <td>4864.999132</td>\n",
       "      <td>53.53009</td>\n",
       "      <td>7.384810</td>\n",
       "      <td>7.696759</td>\n",
       "    </tr>\n",
       "    <tr>\n",
       "      <th>7</th>\n",
       "      <td>734125.582650</td>\n",
       "      <td>986.087</td>\n",
       "      <td>4877.498987</td>\n",
       "      <td>53.53009</td>\n",
       "      <td>7.572945</td>\n",
       "      <td>7.697858</td>\n",
       "    </tr>\n",
       "    <tr>\n",
       "      <th>8</th>\n",
       "      <td>734125.665984</td>\n",
       "      <td>946.67</td>\n",
       "      <td>4889.998843</td>\n",
       "      <td>53.53009</td>\n",
       "      <td>7.941835</td>\n",
       "      <td>7.699016</td>\n",
       "    </tr>\n",
       "    <tr>\n",
       "      <th>9</th>\n",
       "      <td>734125.749317</td>\n",
       "      <td>907.254</td>\n",
       "      <td>4902.498698</td>\n",
       "      <td>53.53009</td>\n",
       "      <td>8.099210</td>\n",
       "      <td>7.708971</td>\n",
       "    </tr>\n",
       "  </tbody>\n",
       "</table>\n",
       "</div>"
      ],
      "text/plain": [
       "   Date and time [Matlab_Time) Biogas [m³/h] Cogeneration unit I  \\\n",
       "0                734124.999317                               NaN   \n",
       "1                734125.082650                             sdfsf   \n",
       "2                734125.165984                           1183.17   \n",
       "3                734125.249317                           1143.75   \n",
       "4                734125.332650                           1104.34   \n",
       "5                734125.415984                           1064.92   \n",
       "6                734125.499317                            1025.5   \n",
       "7                734125.582650                           986.087   \n",
       "8                734125.665984                            946.67   \n",
       "9                734125.749317                           907.254   \n",
       "\n",
       "   Biogas [m³/h] Cogeneration unit II  Methane content in the gas CH4 [%]  \\\n",
       "0                         4790.000000                            53.53009   \n",
       "1                         4802.499855                            53.53009   \n",
       "2                         4814.999711                            53.53009   \n",
       "3                         4827.499566                            53.53009   \n",
       "4                         4839.999421                            53.53009   \n",
       "5                         4852.499277                            53.53009   \n",
       "6                         4864.999132                            53.53009   \n",
       "7                         4877.498987                            53.53009   \n",
       "8                         4889.998843                            53.53009   \n",
       "9                         4902.498698                            53.53009   \n",
       "\n",
       "   Total Solids TS-Wert [%]  pH-Value  \n",
       "0                  7.442129  7.684027  \n",
       "1                  7.959729  7.706535  \n",
       "2                  7.453511  7.691780  \n",
       "3                  8.026361  7.679975  \n",
       "4                  7.560807  7.702491  \n",
       "5                  7.569912  7.697105  \n",
       "6                  7.384810  7.696759  \n",
       "7                  7.572945  7.697858  \n",
       "8                  7.941835  7.699016  \n",
       "9                  8.099210  7.708971  "
      ]
     },
     "execution_count": 30,
     "metadata": {},
     "output_type": "execute_result"
    }
   ],
   "source": [
    "df.head(10)"
   ]
  },
  {
   "cell_type": "code",
   "execution_count": 31,
   "metadata": {},
   "outputs": [
    {
     "data": {
      "text/plain": [
       "False"
      ]
     },
     "execution_count": 31,
     "metadata": {},
     "output_type": "execute_result"
    }
   ],
   "source": [
    "CheckData.isDFNumeric(df)"
   ]
  },
  {
   "cell_type": "code",
   "execution_count": 32,
   "metadata": {},
   "outputs": [
    {
     "data": {
      "text/plain": [
       "False"
      ]
     },
     "execution_count": 32,
     "metadata": {},
     "output_type": "execute_result"
    }
   ],
   "source": [
    "col = 'Biogas [m³/h] Cogeneration unit I'\n",
    "CheckData.isColumnNumeric(df,col)"
   ]
  },
  {
   "cell_type": "code",
   "execution_count": null,
   "metadata": {},
   "outputs": [],
   "source": []
  }
 ],
 "metadata": {
  "kernelspec": {
   "display_name": "Python 3",
   "language": "python",
   "name": "python3"
  },
  "language_info": {
   "codemirror_mode": {
    "name": "ipython",
    "version": 3
   },
   "file_extension": ".py",
   "mimetype": "text/x-python",
   "name": "python",
   "nbconvert_exporter": "python",
   "pygments_lexer": "ipython3",
   "version": "3.8.5"
  }
 },
 "nbformat": 4,
 "nbformat_minor": 4
}
