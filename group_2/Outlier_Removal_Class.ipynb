{
 "metadata": {
  "language_info": {
   "codemirror_mode": {
    "name": "ipython",
    "version": 3
   },
   "file_extension": ".py",
   "mimetype": "text/x-python",
   "name": "python",
   "nbconvert_exporter": "python",
   "pygments_lexer": "ipython3",
   "version": "3.8.5-final"
  },
  "orig_nbformat": 2,
  "kernelspec": {
   "name": "python385jvsc74a57bd04ba88578a1a06b9a450d88199c2ef12222bac6b48212bfc64f23ccb3b89942a7",
   "display_name": "Python 3.8.5 64-bit ('base': conda)"
  }
 },
 "nbformat": 4,
 "nbformat_minor": 2,
 "cells": [
  {
   "cell_type": "code",
   "execution_count": null,
   "metadata": {},
   "outputs": [],
   "source": [
    "#OOP Programming\n",
    "#Real estate valuation data set\n",
    "#Group 2\n",
    "#Outlier Recognition (IQR Method & Z-Score Method)\n",
    "#IQR Method - Developed by Kumudaya Nayanajith\n",
    "#Z-Score Method - Developed by Larissa Melo\n",
    "#16/04/2021\n",
    "\n",
    "####################################################################################################################\n",
    "# Introduction to Percentile methods in outrlier recodnition (IQR)\n",
    "# Perecentile is a score which identifies the frequesncy of a distribution which falls below the specific percentage\n",
    "# We use quantile method in Pandas frameword to identify the percentile values \n",
    "\n",
    "####################################################################################################################\n",
    "# Introduction to Z-Score Method \n",
    "# Z-Scores are the number of standard deviations above and below the mean that each value falls\n",
    "# Z-Score tells how far a point is from the mean of dataset in terms of standard deviation\n",
    "# The threshold value is an empirical number that classifies a point as an outlier or not in the current scheme of things \n",
    "\n",
   ]
  },
  {
   "cell_type": "code",
   "execution_count": 84,
   "metadata": {},
   "outputs": [],
   "source": [
    "#Importing required libraries\n",
    "\n",
    "import pandas as pd  #library for data treatment\n",
    "import numpy as np #library for numerical data treatment\n",
    "import datetime  #library for date type data\n",
    "from matplotlib import pyplot as plt  #plot  graphs\n",
    "import seaborn as sns #plot  graphs\n",
    "import io, os, sys, types\n"
   ]
  },
  {
   "cell_type": "code",
   "execution_count": 85,
   "metadata": {},
   "outputs": [],
   "source": [
    "# Outlier Removal as a Class\n",
    "\n",
    "class OutlierRemoval():\n",
    "    def __init__(self, dataframe, threshold):\n",
    "        self.dataframe = dataframe\n",
    "        self.threshold = threshold\n",
    "\n",
    "    ####################################################################################################################\n",
    "    # Method for outlier removal with the Inter Quartile Range IQR\n",
    "    @classmethod\n",
    "    def removeOutlierIQR(self, dataframe):\n",
    "        for col in dataframe.columns:\n",
    "            print(\"Removing the outliers \",col)\n",
    "            if (((dataframe[col].dtype)=='float64') | ((dataframe[col].dtype)=='int64')): #Check for the numerical columns\n",
    "                # Defining quantile ranges \n",
    "                Q1 = dataframe.quantile(0.25)\n",
    "                Q3 = dataframe.quantile(0.75)\n",
    "                # IQR score\n",
    "                IQR = Q3 - Q1 \n",
    "                df_clean = dataframe[~((dataframe < (Q1 - 1.5 * IQR)) |(dataframe > (Q3 + 1.5 * IQR))).any(axis=1)]\n",
    "            \n",
    "        else:\n",
    "            df_clean[col]=dataframe[col]\n",
    "\n",
    "        # Amount of outlier rows eliminated\n",
    "        originalData = int(dataframe.shape[0])\n",
    "        finalData = int(df_clean.shape[0])\n",
    "        rowsEliminated =  originalData - finalData\n",
    "\n",
    "        print(\"Amount of Eliminated Rows: \", rowsEliminated)\n",
    "        print(\"\")\n",
    "\n",
    "        # Returning the output as a dataframe\n",
    "        return df_clean\n",
    "\n",
    "\n",
    "    ####################################################################################################################  \n",
    "    # Method for outlier removal with the Z-score  \n",
    "    @classmethod\n",
    "    def removeOutlierZSCORE(self, dataframe, threshold):\n",
    "        # Original Data size\n",
    "        data_col = dataframe.shape[1]\n",
    "        data_row = dataframe.shape[0]\n",
    "        \n",
    "        # Z-Score calculation\n",
    "        # signed number of standard deviations by which the value of an observation or data point is above the mean value\n",
    "        # Z-Score tells how far a point is from the mean of dataset in terms of standard deviation\n",
    "\n",
    "        cols = list(dataframe.columns)\n",
    "\n",
    "        for col in cols:\n",
    "            col_zscore = col + '_zscore'\n",
    "            dataframe[col_zscore] = (dataframe[col] - dataframe[col].mean())/dataframe[col].std(ddof=0)\n",
    "\n",
    "        # Threashold for z-score is an empirical value. Might be changed according the dataset\n",
    "        t= threshold\n",
    "        # Selecting half of the dataset where Z columns are located (down half)\n",
    "        dataSizeHalf_col = int(dataframe.shape[1]/2) \n",
    "        dataSize_col = int(dataframe.shape[1])\n",
    "        # Removing Outliers where z < threashold and adding to dataNew\n",
    "        dataNew = dataframe[(dataframe[dataframe.columns[dataSizeHalf_col:dataSize_col]] < t).all(axis=1)]\n",
    "        # Removing Z Colums to final matrix (Upper half)\n",
    "        data_final = dataNew.iloc[:, 0:dataSizeHalf_col]\n",
    "        \n",
    "        # Amount of outlier rows eliminated\n",
    "        originalData = int(dataframe.shape[0])\n",
    "        finalData = int(data_final.shape[0])\n",
    "        rowsEliminated =  originalData - finalData\n",
    "\n",
    "        print(\"Amount of Eliminated Rows: \", rowsEliminated)\n",
    "        print(\"\")\n",
    "\n",
    "        # Returning the output as a dataframe\n",
    "        return data_final   \n",
    "\n",
    "    ####################################################################################################################\n",
    "    # End of the Outlier Removal Class \n"
   ]
  },
  {
   "cell_type": "code",
   "execution_count": 86,
   "metadata": {},
   "outputs": [
    {
     "output_type": "execute_result",
     "data": {
      "text/plain": [
       "   No  X1 transaction date  X2 house age  \\\n",
       "0   1          2012.916667          32.0   \n",
       "1   2          2012.916667          19.5   \n",
       "2   3          2013.583333          13.3   \n",
       "3   4          2013.500000          13.3   \n",
       "4   5          2012.833333           5.0   \n",
       "\n",
       "   X3 distance to the nearest MRT station  X4 number of convenience stores  \\\n",
       "0                                84.87882                               10   \n",
       "1                               306.59470                                9   \n",
       "2                               561.98450                                5   \n",
       "3                               561.98450                                5   \n",
       "4                               390.56840                                5   \n",
       "\n",
       "   X5 latitude  X6 longitude  Y house price of unit area  \n",
       "0     24.98298     121.54024                        37.9  \n",
       "1     24.98034     121.53951                        42.2  \n",
       "2     24.98746     121.54391                        47.3  \n",
       "3     24.98746     121.54391                        54.8  \n",
       "4     24.97937     121.54245                        43.1  "
      ],
      "text/html": "<div>\n<style scoped>\n    .dataframe tbody tr th:only-of-type {\n        vertical-align: middle;\n    }\n\n    .dataframe tbody tr th {\n        vertical-align: top;\n    }\n\n    .dataframe thead th {\n        text-align: right;\n    }\n</style>\n<table border=\"1\" class=\"dataframe\">\n  <thead>\n    <tr style=\"text-align: right;\">\n      <th></th>\n      <th>No</th>\n      <th>X1 transaction date</th>\n      <th>X2 house age</th>\n      <th>X3 distance to the nearest MRT station</th>\n      <th>X4 number of convenience stores</th>\n      <th>X5 latitude</th>\n      <th>X6 longitude</th>\n      <th>Y house price of unit area</th>\n    </tr>\n  </thead>\n  <tbody>\n    <tr>\n      <th>0</th>\n      <td>1</td>\n      <td>2012.916667</td>\n      <td>32.0</td>\n      <td>84.87882</td>\n      <td>10</td>\n      <td>24.98298</td>\n      <td>121.54024</td>\n      <td>37.9</td>\n    </tr>\n    <tr>\n      <th>1</th>\n      <td>2</td>\n      <td>2012.916667</td>\n      <td>19.5</td>\n      <td>306.59470</td>\n      <td>9</td>\n      <td>24.98034</td>\n      <td>121.53951</td>\n      <td>42.2</td>\n    </tr>\n    <tr>\n      <th>2</th>\n      <td>3</td>\n      <td>2013.583333</td>\n      <td>13.3</td>\n      <td>561.98450</td>\n      <td>5</td>\n      <td>24.98746</td>\n      <td>121.54391</td>\n      <td>47.3</td>\n    </tr>\n    <tr>\n      <th>3</th>\n      <td>4</td>\n      <td>2013.500000</td>\n      <td>13.3</td>\n      <td>561.98450</td>\n      <td>5</td>\n      <td>24.98746</td>\n      <td>121.54391</td>\n      <td>54.8</td>\n    </tr>\n    <tr>\n      <th>4</th>\n      <td>5</td>\n      <td>2012.833333</td>\n      <td>5.0</td>\n      <td>390.56840</td>\n      <td>5</td>\n      <td>24.97937</td>\n      <td>121.54245</td>\n      <td>43.1</td>\n    </tr>\n  </tbody>\n</table>\n</div>"
     },
     "metadata": {},
     "execution_count": 86
    }
   ],
   "source": [
    "# Reading the excel file for the testing purpose\n",
    "df1 = pd.read_excel(\"/Users/kukka/sciebo/OOP - Group 2/100 - Data Sets/Real estate valuation data set.xlsx\")\n",
    "df1.head() # First look in to the data in a tabular form"
   ]
  },
  {
   "cell_type": "code",
   "execution_count": 87,
   "metadata": {},
   "outputs": [
    {
     "output_type": "execute_result",
     "data": {
      "text/plain": [
       "               No  X1 transaction date  X2 house age  \\\n",
       "count  414.000000           414.000000    414.000000   \n",
       "mean   207.500000          2013.148953     17.712560   \n",
       "std    119.655756             0.281995     11.392485   \n",
       "min      1.000000          2012.666667      0.000000   \n",
       "25%    104.250000          2012.916667      9.025000   \n",
       "50%    207.500000          2013.166667     16.100000   \n",
       "75%    310.750000          2013.416667     28.150000   \n",
       "max    414.000000          2013.583333     43.800000   \n",
       "\n",
       "       X3 distance to the nearest MRT station  \\\n",
       "count                              414.000000   \n",
       "mean                              1083.885689   \n",
       "std                               1262.109595   \n",
       "min                                 23.382840   \n",
       "25%                                289.324800   \n",
       "50%                                492.231300   \n",
       "75%                               1454.279000   \n",
       "max                               6488.021000   \n",
       "\n",
       "       X4 number of convenience stores  X5 latitude  X6 longitude  \\\n",
       "count                       414.000000   414.000000    414.000000   \n",
       "mean                          4.094203    24.969030    121.533361   \n",
       "std                           2.945562     0.012410      0.015347   \n",
       "min                           0.000000    24.932070    121.473530   \n",
       "25%                           1.000000    24.963000    121.528085   \n",
       "50%                           4.000000    24.971100    121.538630   \n",
       "75%                           6.000000    24.977455    121.543305   \n",
       "max                          10.000000    25.014590    121.566270   \n",
       "\n",
       "       Y house price of unit area  \n",
       "count                  414.000000  \n",
       "mean                    37.980193  \n",
       "std                     13.606488  \n",
       "min                      7.600000  \n",
       "25%                     27.700000  \n",
       "50%                     38.450000  \n",
       "75%                     46.600000  \n",
       "max                    117.500000  "
      ],
      "text/html": "<div>\n<style scoped>\n    .dataframe tbody tr th:only-of-type {\n        vertical-align: middle;\n    }\n\n    .dataframe tbody tr th {\n        vertical-align: top;\n    }\n\n    .dataframe thead th {\n        text-align: right;\n    }\n</style>\n<table border=\"1\" class=\"dataframe\">\n  <thead>\n    <tr style=\"text-align: right;\">\n      <th></th>\n      <th>No</th>\n      <th>X1 transaction date</th>\n      <th>X2 house age</th>\n      <th>X3 distance to the nearest MRT station</th>\n      <th>X4 number of convenience stores</th>\n      <th>X5 latitude</th>\n      <th>X6 longitude</th>\n      <th>Y house price of unit area</th>\n    </tr>\n  </thead>\n  <tbody>\n    <tr>\n      <th>count</th>\n      <td>414.000000</td>\n      <td>414.000000</td>\n      <td>414.000000</td>\n      <td>414.000000</td>\n      <td>414.000000</td>\n      <td>414.000000</td>\n      <td>414.000000</td>\n      <td>414.000000</td>\n    </tr>\n    <tr>\n      <th>mean</th>\n      <td>207.500000</td>\n      <td>2013.148953</td>\n      <td>17.712560</td>\n      <td>1083.885689</td>\n      <td>4.094203</td>\n      <td>24.969030</td>\n      <td>121.533361</td>\n      <td>37.980193</td>\n    </tr>\n    <tr>\n      <th>std</th>\n      <td>119.655756</td>\n      <td>0.281995</td>\n      <td>11.392485</td>\n      <td>1262.109595</td>\n      <td>2.945562</td>\n      <td>0.012410</td>\n      <td>0.015347</td>\n      <td>13.606488</td>\n    </tr>\n    <tr>\n      <th>min</th>\n      <td>1.000000</td>\n      <td>2012.666667</td>\n      <td>0.000000</td>\n      <td>23.382840</td>\n      <td>0.000000</td>\n      <td>24.932070</td>\n      <td>121.473530</td>\n      <td>7.600000</td>\n    </tr>\n    <tr>\n      <th>25%</th>\n      <td>104.250000</td>\n      <td>2012.916667</td>\n      <td>9.025000</td>\n      <td>289.324800</td>\n      <td>1.000000</td>\n      <td>24.963000</td>\n      <td>121.528085</td>\n      <td>27.700000</td>\n    </tr>\n    <tr>\n      <th>50%</th>\n      <td>207.500000</td>\n      <td>2013.166667</td>\n      <td>16.100000</td>\n      <td>492.231300</td>\n      <td>4.000000</td>\n      <td>24.971100</td>\n      <td>121.538630</td>\n      <td>38.450000</td>\n    </tr>\n    <tr>\n      <th>75%</th>\n      <td>310.750000</td>\n      <td>2013.416667</td>\n      <td>28.150000</td>\n      <td>1454.279000</td>\n      <td>6.000000</td>\n      <td>24.977455</td>\n      <td>121.543305</td>\n      <td>46.600000</td>\n    </tr>\n    <tr>\n      <th>max</th>\n      <td>414.000000</td>\n      <td>2013.583333</td>\n      <td>43.800000</td>\n      <td>6488.021000</td>\n      <td>10.000000</td>\n      <td>25.014590</td>\n      <td>121.566270</td>\n      <td>117.500000</td>\n    </tr>\n  </tbody>\n</table>\n</div>"
     },
     "metadata": {},
     "execution_count": 87
    }
   ],
   "source": [
    "df1.describe() # Description of the imported dataframe"
   ]
  },
  {
   "cell_type": "code",
   "execution_count": 88,
   "metadata": {},
   "outputs": [
    {
     "output_type": "stream",
     "name": "stdout",
     "text": [
      "Removing the outliers  No\n",
      "Removing the outliers  X1 transaction date\n",
      "Removing the outliers  X2 house age\n",
      "Removing the outliers  X3 distance to the nearest MRT station\n",
      "Removing the outliers  X4 number of convenience stores\n",
      "Removing the outliers  X5 latitude\n",
      "Removing the outliers  X6 longitude\n",
      "Removing the outliers  Y house price of unit area\n",
      "Amount of Eliminated Rows:  43\n",
      "\n",
      "<ipython-input-85-85f77144baa5>:23: SettingWithCopyWarning: \n",
      "A value is trying to be set on a copy of a slice from a DataFrame.\n",
      "Try using .loc[row_indexer,col_indexer] = value instead\n",
      "\n",
      "See the caveats in the documentation: https://pandas.pydata.org/pandas-docs/stable/user_guide/indexing.html#returning-a-view-versus-a-copy\n",
      "  df_clean[col]=dataframe[col]\n"
     ]
    },
    {
     "output_type": "execute_result",
     "data": {
      "text/plain": [
       "               No  X1 transaction date  X2 house age  \\\n",
       "count  371.000000           371.000000    371.000000   \n",
       "mean   208.757412          2013.143980     17.475202   \n",
       "std    120.433162             0.279475     11.742498   \n",
       "min      1.000000          2012.666667      0.000000   \n",
       "25%    104.500000          2012.916667      8.000000   \n",
       "50%    210.000000          2013.166667     15.600000   \n",
       "75%    313.000000          2013.416667     28.850000   \n",
       "max    414.000000          2013.583333     43.800000   \n",
       "\n",
       "       X3 distance to the nearest MRT station  \\\n",
       "count                              371.000000   \n",
       "mean                               741.001846   \n",
       "std                                675.242324   \n",
       "min                                 23.382840   \n",
       "25%                                279.172600   \n",
       "50%                                461.784800   \n",
       "75%                               1144.436000   \n",
       "max                               3085.170000   \n",
       "\n",
       "       X4 number of convenience stores  X5 latitude  X6 longitude  \\\n",
       "count                       371.000000   371.000000    371.000000   \n",
       "mean                          4.493261    24.971224    121.536577   \n",
       "std                           2.780595     0.009795      0.010987   \n",
       "min                           0.000000    24.948830    121.508270   \n",
       "25%                           2.000000    24.964290    121.533355   \n",
       "50%                           5.000000    24.972850    121.539900   \n",
       "75%                           7.000000    24.978655    121.543480   \n",
       "max                          10.000000    24.998000    121.561740   \n",
       "\n",
       "       Y house price of unit area  \n",
       "count                  371.000000  \n",
       "mean                    39.527763  \n",
       "std                     11.652456  \n",
       "min                      7.600000  \n",
       "25%                     30.650000  \n",
       "50%                     40.000000  \n",
       "75%                     47.200000  \n",
       "max                     73.600000  "
      ],
      "text/html": "<div>\n<style scoped>\n    .dataframe tbody tr th:only-of-type {\n        vertical-align: middle;\n    }\n\n    .dataframe tbody tr th {\n        vertical-align: top;\n    }\n\n    .dataframe thead th {\n        text-align: right;\n    }\n</style>\n<table border=\"1\" class=\"dataframe\">\n  <thead>\n    <tr style=\"text-align: right;\">\n      <th></th>\n      <th>No</th>\n      <th>X1 transaction date</th>\n      <th>X2 house age</th>\n      <th>X3 distance to the nearest MRT station</th>\n      <th>X4 number of convenience stores</th>\n      <th>X5 latitude</th>\n      <th>X6 longitude</th>\n      <th>Y house price of unit area</th>\n    </tr>\n  </thead>\n  <tbody>\n    <tr>\n      <th>count</th>\n      <td>371.000000</td>\n      <td>371.000000</td>\n      <td>371.000000</td>\n      <td>371.000000</td>\n      <td>371.000000</td>\n      <td>371.000000</td>\n      <td>371.000000</td>\n      <td>371.000000</td>\n    </tr>\n    <tr>\n      <th>mean</th>\n      <td>208.757412</td>\n      <td>2013.143980</td>\n      <td>17.475202</td>\n      <td>741.001846</td>\n      <td>4.493261</td>\n      <td>24.971224</td>\n      <td>121.536577</td>\n      <td>39.527763</td>\n    </tr>\n    <tr>\n      <th>std</th>\n      <td>120.433162</td>\n      <td>0.279475</td>\n      <td>11.742498</td>\n      <td>675.242324</td>\n      <td>2.780595</td>\n      <td>0.009795</td>\n      <td>0.010987</td>\n      <td>11.652456</td>\n    </tr>\n    <tr>\n      <th>min</th>\n      <td>1.000000</td>\n      <td>2012.666667</td>\n      <td>0.000000</td>\n      <td>23.382840</td>\n      <td>0.000000</td>\n      <td>24.948830</td>\n      <td>121.508270</td>\n      <td>7.600000</td>\n    </tr>\n    <tr>\n      <th>25%</th>\n      <td>104.500000</td>\n      <td>2012.916667</td>\n      <td>8.000000</td>\n      <td>279.172600</td>\n      <td>2.000000</td>\n      <td>24.964290</td>\n      <td>121.533355</td>\n      <td>30.650000</td>\n    </tr>\n    <tr>\n      <th>50%</th>\n      <td>210.000000</td>\n      <td>2013.166667</td>\n      <td>15.600000</td>\n      <td>461.784800</td>\n      <td>5.000000</td>\n      <td>24.972850</td>\n      <td>121.539900</td>\n      <td>40.000000</td>\n    </tr>\n    <tr>\n      <th>75%</th>\n      <td>313.000000</td>\n      <td>2013.416667</td>\n      <td>28.850000</td>\n      <td>1144.436000</td>\n      <td>7.000000</td>\n      <td>24.978655</td>\n      <td>121.543480</td>\n      <td>47.200000</td>\n    </tr>\n    <tr>\n      <th>max</th>\n      <td>414.000000</td>\n      <td>2013.583333</td>\n      <td>43.800000</td>\n      <td>3085.170000</td>\n      <td>10.000000</td>\n      <td>24.998000</td>\n      <td>121.561740</td>\n      <td>73.600000</td>\n    </tr>\n  </tbody>\n</table>\n</div>"
     },
     "metadata": {},
     "execution_count": 88
    }
   ],
   "source": [
    "# Testing the removeOutlierIQR method for the imported dataframe \n",
    "final_df=OutlierRemoval.removeOutlierIQR(df1)\n",
    "final_df.describe()\n"
   ]
  },
  {
   "cell_type": "code",
   "execution_count": 89,
   "metadata": {},
   "outputs": [
    {
     "output_type": "stream",
     "name": "stdout",
     "text": [
      "Amount of Eliminated Rows:  64\n\n"
     ]
    },
    {
     "output_type": "execute_result",
     "data": {
      "text/plain": [
       "               No  X1 transaction date  X2 house age  \\\n",
       "count  350.000000           350.000000    350.000000   \n",
       "mean   207.451429          2013.142619     17.010571   \n",
       "std    120.017581             0.282116     11.198809   \n",
       "min      2.000000          2012.666667      0.000000   \n",
       "25%    103.250000          2012.916667      8.025000   \n",
       "50%    209.500000          2013.166667     15.450000   \n",
       "75%    309.750000          2013.416667     26.750000   \n",
       "max    414.000000          2013.583333     40.100000   \n",
       "\n",
       "       X3 distance to the nearest MRT station  \\\n",
       "count                              350.000000   \n",
       "mean                               771.869418   \n",
       "std                                687.961868   \n",
       "min                                 23.382840   \n",
       "25%                                289.324800   \n",
       "50%                                489.350700   \n",
       "75%                               1159.087500   \n",
       "max                               3529.564000   \n",
       "\n",
       "       X4 number of convenience stores  X5 latitude  X6 longitude  \\\n",
       "count                       350.000000   350.000000    350.000000   \n",
       "mean                          4.282857    24.970620    121.536327   \n",
       "std                           2.674831     0.009931      0.011244   \n",
       "min                           0.000000    24.932070    121.508270   \n",
       "25%                           2.000000    24.963890    121.531700   \n",
       "50%                           5.000000    24.972130    121.539650   \n",
       "75%                           6.000000    24.977828    121.543480   \n",
       "max                           9.000000    24.991760    121.561740   \n",
       "\n",
       "       Y house price of unit area  \n",
       "count                  350.000000  \n",
       "mean                    38.681143  \n",
       "std                     11.110739  \n",
       "min                      7.600000  \n",
       "25%                     29.850000  \n",
       "50%                     39.350000  \n",
       "75%                     46.350000  \n",
       "max                     63.900000  "
      ],
      "text/html": "<div>\n<style scoped>\n    .dataframe tbody tr th:only-of-type {\n        vertical-align: middle;\n    }\n\n    .dataframe tbody tr th {\n        vertical-align: top;\n    }\n\n    .dataframe thead th {\n        text-align: right;\n    }\n</style>\n<table border=\"1\" class=\"dataframe\">\n  <thead>\n    <tr style=\"text-align: right;\">\n      <th></th>\n      <th>No</th>\n      <th>X1 transaction date</th>\n      <th>X2 house age</th>\n      <th>X3 distance to the nearest MRT station</th>\n      <th>X4 number of convenience stores</th>\n      <th>X5 latitude</th>\n      <th>X6 longitude</th>\n      <th>Y house price of unit area</th>\n    </tr>\n  </thead>\n  <tbody>\n    <tr>\n      <th>count</th>\n      <td>350.000000</td>\n      <td>350.000000</td>\n      <td>350.000000</td>\n      <td>350.000000</td>\n      <td>350.000000</td>\n      <td>350.000000</td>\n      <td>350.000000</td>\n      <td>350.000000</td>\n    </tr>\n    <tr>\n      <th>mean</th>\n      <td>207.451429</td>\n      <td>2013.142619</td>\n      <td>17.010571</td>\n      <td>771.869418</td>\n      <td>4.282857</td>\n      <td>24.970620</td>\n      <td>121.536327</td>\n      <td>38.681143</td>\n    </tr>\n    <tr>\n      <th>std</th>\n      <td>120.017581</td>\n      <td>0.282116</td>\n      <td>11.198809</td>\n      <td>687.961868</td>\n      <td>2.674831</td>\n      <td>0.009931</td>\n      <td>0.011244</td>\n      <td>11.110739</td>\n    </tr>\n    <tr>\n      <th>min</th>\n      <td>2.000000</td>\n      <td>2012.666667</td>\n      <td>0.000000</td>\n      <td>23.382840</td>\n      <td>0.000000</td>\n      <td>24.932070</td>\n      <td>121.508270</td>\n      <td>7.600000</td>\n    </tr>\n    <tr>\n      <th>25%</th>\n      <td>103.250000</td>\n      <td>2012.916667</td>\n      <td>8.025000</td>\n      <td>289.324800</td>\n      <td>2.000000</td>\n      <td>24.963890</td>\n      <td>121.531700</td>\n      <td>29.850000</td>\n    </tr>\n    <tr>\n      <th>50%</th>\n      <td>209.500000</td>\n      <td>2013.166667</td>\n      <td>15.450000</td>\n      <td>489.350700</td>\n      <td>5.000000</td>\n      <td>24.972130</td>\n      <td>121.539650</td>\n      <td>39.350000</td>\n    </tr>\n    <tr>\n      <th>75%</th>\n      <td>309.750000</td>\n      <td>2013.416667</td>\n      <td>26.750000</td>\n      <td>1159.087500</td>\n      <td>6.000000</td>\n      <td>24.977828</td>\n      <td>121.543480</td>\n      <td>46.350000</td>\n    </tr>\n    <tr>\n      <th>max</th>\n      <td>414.000000</td>\n      <td>2013.583333</td>\n      <td>40.100000</td>\n      <td>3529.564000</td>\n      <td>9.000000</td>\n      <td>24.991760</td>\n      <td>121.561740</td>\n      <td>63.900000</td>\n    </tr>\n  </tbody>\n</table>\n</div>"
     },
     "metadata": {},
     "execution_count": 89
    }
   ],
   "source": [
    "# Testing the removeOutlierZSCORE method for the imported dataframe\n",
    "final_df2=OutlierRemoval.removeOutlierZSCORE(df1, 2)\n",
    "final_df2.describe()"
   ]
  },
  {
   "cell_type": "code",
   "execution_count": null,
   "metadata": {},
   "outputs": [],
   "source": []
  }
 ]
}
